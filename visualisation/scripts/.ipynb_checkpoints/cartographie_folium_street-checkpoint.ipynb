{
 "cells": [
  {
   "cell_type": "markdown",
   "id": "357e409f-172f-4b80-95f8-19b9f67fd76a",
   "metadata": {},
   "source": [
    "# Cartographie et diagramme des items exposés selon l'adresse des exposants"
   ]
  },
  {
   "cell_type": "markdown",
   "id": "0334cd6a-8cad-4ca2-938b-858127fa0fac",
   "metadata": {
    "tags": []
   },
   "source": [
    "## Cartographie"
   ]
  },
  {
   "cell_type": "code",
   "execution_count": null,
   "id": "eb3ffb7e-c303-44b8-aa91-0125bf093c34",
   "metadata": {},
   "outputs": [],
   "source": [
    "#Localiser le répertoire de travail \n",
    "\n",
    "import os\n",
    "os.getcwd()"
   ]
  },
  {
   "cell_type": "code",
   "execution_count": null,
   "id": "96a8faf3-c0f7-4931-8af5-86a5afdf8603",
   "metadata": {},
   "outputs": [],
   "source": [
    "#Chargement des librairies\n",
    "\n",
    "import pandas as pd\n",
    "\n",
    "import matplotlib.pyplot as plt  \n",
    "from collections import Counter\n",
    "import matplotlib.ticker as ticker\n",
    "\n",
    "!pip install folium\n",
    "import folium"
   ]
  },
  {
   "cell_type": "code",
   "execution_count": null,
   "id": "fc7be1cb-ffac-4c5c-a05b-07c3b43affae",
   "metadata": {},
   "outputs": [],
   "source": [
    "#Désignation du fichier de travail (tableur csv)\n",
    "\n",
    "path = '../data/PCP_complete.tsv'"
   ]
  },
  {
   "cell_type": "code",
   "execution_count": null,
   "id": "9574dae8-0e21-48d7-bcd9-3f3ed1992c93",
   "metadata": {},
   "outputs": [],
   "source": [
    "#Création d'un tableur (dataframe)\n",
    "\n",
    "df = pd.read_csv(path, sep='\\t', index_col=[0])"
   ]
  },
  {
   "cell_type": "code",
   "execution_count": null,
   "id": "218fe558-469a-4037-965e-09ac9bd50285",
   "metadata": {},
   "outputs": [],
   "source": [
    "#Aperçu des données \n",
    "\n",
    "df.head(3) "
   ]
  },
  {
   "cell_type": "code",
   "execution_count": null,
   "id": "27c3d343-41f2-46a2-a95e-9de5aa22845d",
   "metadata": {},
   "outputs": [],
   "source": [
    "#Aperçu des données \n",
    "\n",
    "df.info()"
   ]
  },
  {
   "cell_type": "code",
   "execution_count": null,
   "id": "8d19bb3c-b3d5-47bb-8156-716ae3abce5e",
   "metadata": {},
   "outputs": [],
   "source": [
    "#Créer un nouveau tableur avec le compte du nombre d'items par adresse des exposants\n",
    "\n",
    "street_nb = Counter(df[\"Street name of the address\"].sort_values(ascending=True).tolist()).most_common()\n",
    "df_street = pd.DataFrame(street_nb, columns=[\"Street name of the address\", 'Count'])\n",
    "df_street"
   ]
  },
  {
   "cell_type": "code",
   "execution_count": null,
   "id": "72630016-a7ab-487d-bc38-7fef471546f7",
   "metadata": {},
   "outputs": [],
   "source": [
    "df_street = df_street.set_index(\"Street name of the address\").join(df.set_index(\"Street name of the address\"), how=\"right\").reset_index() \n",
    "df_street.head()"
   ]
  },
  {
   "cell_type": "code",
   "execution_count": null,
   "id": "54763d11-a199-47c3-9a7f-91c5b055a23e",
   "metadata": {},
   "outputs": [],
   "source": [
    "df_street.drop_duplicates(subset=[\"Street name of the address\"], keep = 'first', inplace=True)\n",
    "df_street"
   ]
  },
  {
   "cell_type": "code",
   "execution_count": null,
   "id": "518c16fe-2fd2-4350-ae7e-5f226dbff07c",
   "metadata": {},
   "outputs": [],
   "source": [
    "#Import de la librairie geopandas\n",
    "\n",
    "import geopandas"
   ]
  },
  {
   "cell_type": "code",
   "execution_count": null,
   "id": "7aba15cf-bf2d-414f-90ae-bd32c6ce9f68",
   "metadata": {},
   "outputs": [],
   "source": [
    "#Création des colones 'Latitude' et 'Longitude' à partir des colonnes 'Street lat' et 'Street long'\n",
    "\n",
    "df_street[['Latitude', 'Longitude']]= df_street[['Street lat', 'Street long']]\n",
    "df_street.info(4)"
   ]
  },
  {
   "cell_type": "code",
   "execution_count": null,
   "id": "22a0a3b5-7516-4a07-9430-9b7cd769030a",
   "metadata": {},
   "outputs": [],
   "source": [
    "#Indiquer que notre tableur df_cities est un tableur géoréférencé \n",
    "\n",
    "gdf_street = geopandas.GeoDataFrame(df_street, geometry=geopandas.points_from_xy(df_street.Longitude, df_street.Latitude))"
   ]
  },
  {
   "cell_type": "code",
   "execution_count": null,
   "id": "d91c9ac3-9fb2-4e14-a1a7-ae847f5cb5d7",
   "metadata": {},
   "outputs": [],
   "source": [
    "# Définition du fond de carte\n",
    "\n",
    "#Choix des coordonnées centrales\n",
    "#loc = [27.783889, -97.510556]#centrement continent américain \n",
    "loc = [52.50, -13.35]#centrement Atlantique\n",
    "title_html = '''\n",
    "             <h3 align=\"center\" style=\"font-size:16px\"><b>Distribution of exhibitors' addresses according to the number of works exhibited\n",
    "            </b></h3><h5 align=\"center\">Frédérine Pradier - CC BY</h5> \n",
    "             '''.format(loc) +'\\n'\n",
    "\n",
    "animated_map = folium.Map(location=loc, tiles='Stamen toner', zoom_start=2)\n",
    "\n",
    "animated_map.get_root().html.add_child(folium.Element(title_html))\n",
    "\n",
    "animated_map #(pour l'afficher)"
   ]
  },
  {
   "cell_type": "code",
   "execution_count": null,
   "id": "7bf24d01-ebbd-4dc3-8cad-d269a04a3d66",
   "metadata": {},
   "outputs": [],
   "source": [
    "gdf_street = gdf_street[gdf_street[\"Street name of the address\"].notna()]"
   ]
  },
  {
   "cell_type": "code",
   "execution_count": null,
   "id": "cc0c03e7-3844-4a94-ab63-11faa4f7d68f",
   "metadata": {},
   "outputs": [],
   "source": [
    "def create_map_markers(gdf_street, map_name):\n",
    "    \n",
    "    folium.CircleMarker(\n",
    "        location=[gdf_street['Latitude'], gdf_street['Longitude']], \n",
    "        radius=0.4*gdf_street['Count'],\n",
    "        color=\"red\",\n",
    "        fill=True,\n",
    "        popup=folium.Popup(f\"{gdf_street['Street name of the address'].title()} <br> {str(gdf_street['Count']).title()}\" +\" items represented\", max_width=200),\n",
    "        tooltip=f\"{gdf_street['Street name of the address'].title()}<br> {str(gdf_street['Count']).title()}\" +\" items represented\",\n",
    "        data=gdf_street,\n",
    "        columns=['Street name of the address', \"Count\"],\n",
    "        legend_name=\"Number of items retrieved\"\n",
    "        \n",
    "                 ).add_to(map_name)"
   ]
  },
  {
   "cell_type": "code",
   "execution_count": null,
   "id": "06b89c24-f402-410d-a995-3a36e54b1ce4",
   "metadata": {},
   "outputs": [],
   "source": [
    "gdf_street=gdf_street.dropna(subset=['Latitude', 'Longitude'])\n",
    "gdf_street.apply(create_map_markers, map_name=animated_map, axis=\"columns\")\n",
    "animated_map.save('street2.html') #pour enregistrer la carte\n",
    "animated_map"
   ]
  },
  {
   "cell_type": "code",
   "execution_count": null,
   "id": "f8982e6b-b3be-4139-8741-b7f24f806bff",
   "metadata": {},
   "outputs": [],
   "source": []
  },
  {
   "cell_type": "code",
   "execution_count": null,
   "id": "9d85ecf5-42ac-468c-8e92-95d1ee029151",
   "metadata": {},
   "outputs": [],
   "source": []
  }
 ],
 "metadata": {
  "kernelspec": {
   "display_name": "Python 3 (ipykernel)",
   "language": "python",
   "name": "python3"
  },
  "language_info": {
   "codemirror_mode": {
    "name": "ipython",
    "version": 3
   },
   "file_extension": ".py",
   "mimetype": "text/x-python",
   "name": "python",
   "nbconvert_exporter": "python",
   "pygments_lexer": "ipython3",
   "version": "3.9.7"
  }
 },
 "nbformat": 4,
 "nbformat_minor": 5
}
